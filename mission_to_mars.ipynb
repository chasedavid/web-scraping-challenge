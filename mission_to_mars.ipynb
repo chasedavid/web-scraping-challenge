{
 "cells": [
  {
   "cell_type": "code",
   "execution_count": 1,
   "metadata": {},
   "outputs": [],
   "source": [
    "#import dependencies: splinter, beautifulsoup, pandas, requests\n",
    "from splinter import Browser\n",
    "from bs4 import BeautifulSoup as bs"
   ]
  },
  {
   "cell_type": "code",
   "execution_count": 2,
   "metadata": {},
   "outputs": [],
   "source": [
    "import pandas as pd\n",
    "import requests"
   ]
  },
  {
   "cell_type": "code",
   "execution_count": 3,
   "metadata": {},
   "outputs": [],
   "source": [
    "#variable for mars data\n",
    "mars_data = {}\n"
   ]
  },
  {
   "cell_type": "code",
   "execution_count": 4,
   "metadata": {},
   "outputs": [],
   "source": [
    "#function configure and use chrome browser for splinter\n",
    "def init_browser():\n",
    "    executable_path = {'executable_path': '/usr/local/bin/chromedriver'}\n",
    "    return (Browser('chrome', **executable_path, headless=False))\n"
   ]
  },
  {
   "cell_type": "code",
   "execution_count": 5,
   "metadata": {},
   "outputs": [],
   "source": [
    "def scrap():\n",
    "    browser = init_browser()\n",
    "    browser = Browser('chrome', **executable_path, headless=False)\n",
    "    \n",
    "    #provided url\n",
    "    url = 'https://mars.nasa.gov/news/'\n",
    "    browser.visit(url)\n",
    "    \n",
    "    html = browser.html\n",
    "    soup = bs(html, 'html.parser')\n",
    "    \n",
    "    news_title = soup.find('div', class_='content_title').find('a').text\n",
    "    news_p = soup.find('div', class_='article_teaser_body').text().strip()\n",
    "    \n",
    "    mars_data['headline'] = news_title\n",
    "    mars_data['text'] = news_p\n",
    "    \n",
    "    #close browser\n",
    "    browser.quit()\n",
    "    \n",
    "    return (mars_data)\n"
   ]
  },
  {
   "cell_type": "code",
   "execution_count": 6,
   "metadata": {},
   "outputs": [],
   "source": [
    "def scrap_img():\n",
    "    #initate browser\n",
    "    browser = init_browser()\n",
    "    \n",
    "    #provided url\n",
    "    img_url = 'https://www.jpl.nasa.gov/spaceimages/?search=&category=Mars'\n",
    "    browser.visit(url)\n",
    "    \n",
    "    html = browser.html\n",
    "    soup = bs(html, 'html.parser')\n",
    "    \n",
    "    #obtain full image url\n",
    "    url_base = 'https://www.jpl.nasa.gov' \n",
    "    url_end = soup.find('article')['style']\n",
    "    \n",
    "    first_par = int(url_end.find('('))\n",
    "    last_par = int(url_end.find(')'))\n",
    "    featured_image_url = url_base + url_end[first_par+2: last_par-1]\n",
    "    \n",
    "    mars_data['image_url'] = featured_image_url\n",
    "    \n",
    "    browser.quit()\n",
    "    \n",
    "    return (mars_data)\n",
    "    "
   ]
  },
  {
   "cell_type": "code",
   "execution_count": 7,
   "metadata": {},
   "outputs": [],
   "source": [
    "def scrape_weather():\n",
    "    browser = init_browser()\n",
    "    \n",
    "    #provided url\n",
    "    url = 'https://twitter.com/marswxreport?lang=en'\n",
    "    browser.visit(url)\n",
    "    \n",
    "    html = browser.html\n",
    "    soup = bs(html, 'html.parser')\n",
    "    \n",
    "    #list of tweets from soup object\n",
    "    tweets = soup.find_all('div', class_='js-tweet-text-container')\n",
    "    \n",
    "    #iterate through each element of the list\n",
    "    for tweet in tweets:\n",
    "        mars_weather = tweet.find('p', class_='tweet-text').text\n",
    "        if 'Sol' and 'pressure' and 'daylight' in test:\n",
    "            break\n",
    "        else:\n",
    "            pass\n",
    "    mars_data['weather'] = mars_weather\n",
    "    \n",
    "    #close browser\n",
    "    browser.quit()\n",
    "    \n",
    "    return(mars_data)\n",
    "        \n",
    "        "
   ]
  },
  {
   "cell_type": "code",
   "execution_count": 8,
   "metadata": {},
   "outputs": [],
   "source": [
    "def scrape_facts():\n",
    "    #provided url\n",
    "    url = 'https://space-facts.com/mars/'\n",
    "    \n",
    "    #pandas scraping: read_html\n",
    "    mars_facts = pd.read_html(url)\n",
    "    \n",
    "    df = mars_facts[0]\n",
    "    #provide useful column discriptors\n",
    "    df.columns = ['Characteristic', 'Value']\n",
    "    \n",
    "    facts = df.to_html()\n",
    "    \n",
    "    mars_data['facts'] = facts\n",
    "    \n",
    "    return(mars_data)\n",
    "    \n",
    "    "
   ]
  },
  {
   "cell_type": "code",
   "execution_count": 9,
   "metadata": {},
   "outputs": [],
   "source": [
    "def scrape_hems():\n",
    "    browser = init_browser()\n",
    "    \n",
    "    #provided url\n",
    "    url = 'https://astrogeology.usgs.gov/search/results?q=hemisphere+enhanced&k1=target&v1=Mars'\n",
    "    browser.visit(url)\n",
    "    \n",
    "    html = browser.html\n",
    "    soup = bs(html, 'html.parser')\n",
    "    \n",
    "    #list of hemispheres\n",
    "    hems_list = soup.find_all('div', class_='item')\n",
    "    \n",
    "    #var to store full image url's\n",
    "    img_list = []\n",
    "    \n",
    "    url_base = 'https://astrogeology.usgs.gov'\n",
    "    for item in hems_list:\n",
    "        #store header\n",
    "        header = item.find('h3').text\n",
    "        \n",
    "        #find url ending and concat with url_base\n",
    "        img_end = item.find('a', class_='itemLink product-item')['href']\n",
    "        img_url = url_base + img_end\n",
    "        \n",
    "        browser.visit(img_url)\n",
    "        img_html = browser.html\n",
    "        \n",
    "        img_soup = bs(img_html, 'html.parser')\n",
    "        img_full = url_base + img_soup.find('img', class_='wide-image')['src']\n",
    "        \n",
    "        img_list.append({'title': header ,'img_url': img_full})\n",
    "        \n",
    "    mars_data['hem_img_url'] = img_list\n",
    "    \n",
    "    browser.quit()\n",
    "    return(mars_data)\n"
   ]
  },
  {
   "cell_type": "code",
   "execution_count": null,
   "metadata": {},
   "outputs": [],
   "source": []
  }
 ],
 "metadata": {
  "kernelspec": {
   "display_name": "Python 3",
   "language": "python",
   "name": "python3"
  },
  "language_info": {
   "codemirror_mode": {
    "name": "ipython",
    "version": 3
   },
   "file_extension": ".py",
   "mimetype": "text/x-python",
   "name": "python",
   "nbconvert_exporter": "python",
   "pygments_lexer": "ipython3",
   "version": "3.6.5"
  }
 },
 "nbformat": 4,
 "nbformat_minor": 2
}
